{
 "cells": [
  {
   "cell_type": "code",
   "execution_count": 1,
   "id": "8b1a7ac8-f4ab-4134-b8a6-af8087df27ff",
   "metadata": {},
   "outputs": [],
   "source": [
    "import pandas as pd\n",
    "df = pd.read_json(\"data/raw_data_cocktail.json\")"
   ]
  },
  {
   "cell_type": "code",
   "execution_count": null,
   "id": "22bfd4d1-a38c-4b8f-bea8-e3a4527304c4",
   "metadata": {},
   "outputs": [],
   "source": []
  }
 ],
 "metadata": {
  "kernelspec": {
   "display_name": "Python 3 (ipykernel)",
   "language": "python",
   "name": "python3"
  },
  "language_info": {
   "codemirror_mode": {
    "name": "ipython",
    "version": 3
   },
   "file_extension": ".py",
   "mimetype": "text/x-python",
   "name": "python",
   "nbconvert_exporter": "python",
   "pygments_lexer": "ipython3",
   "version": "3.13.2"
  }
 },
 "nbformat": 4,
 "nbformat_minor": 5
}
